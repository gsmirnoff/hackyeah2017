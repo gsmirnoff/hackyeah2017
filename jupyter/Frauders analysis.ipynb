{
 "cells": [
  {
   "cell_type": "code",
   "execution_count": 99,
   "metadata": {},
   "outputs": [],
   "source": [
    "import pandas as pd\n",
    "import numpy as np\n",
    "import matplotlib.pyplot as plt\n",
    "\n",
    "%matplotlib inline\n",
    "pd.options.display.float_format = '{:.0f}'.format"
   ]
  },
  {
   "cell_type": "code",
   "execution_count": 168,
   "metadata": {},
   "outputs": [
    {
     "data": {
      "text/html": [
       "<div>\n",
       "<style>\n",
       "    .dataframe thead tr:only-child th {\n",
       "        text-align: right;\n",
       "    }\n",
       "\n",
       "    .dataframe thead th {\n",
       "        text-align: left;\n",
       "    }\n",
       "\n",
       "    .dataframe tbody tr th {\n",
       "        vertical-align: top;\n",
       "    }\n",
       "</style>\n",
       "<table border=\"1\" class=\"dataframe\">\n",
       "  <thead>\n",
       "    <tr style=\"text-align: right;\">\n",
       "      <th></th>\n",
       "      <th>#nick</th>\n",
       "      <th>nip</th>\n",
       "      <th>email</th>\n",
       "      <th>phone,,</th>\n",
       "    </tr>\n",
       "  </thead>\n",
       "  <tbody>\n",
       "    <tr>\n",
       "      <th>0</th>\n",
       "      <td>all_elektrocity</td>\n",
       "      <td>6462831307</td>\n",
       "      <td>allegro@elektrocity.eu</td>\n",
       "      <td>608092396,,</td>\n",
       "    </tr>\n",
       "    <tr>\n",
       "      <th>1</th>\n",
       "      <td>www_PL-GSM_pl</td>\n",
       "      <td>8952031414</td>\n",
       "      <td>sklep@pl-gsm.pl</td>\n",
       "      <td>,,</td>\n",
       "    </tr>\n",
       "    <tr>\n",
       "      <th>2</th>\n",
       "      <td>smart_fon</td>\n",
       "      <td>8992746964</td>\n",
       "      <td>smartfon.allegro@gmail.com</td>\n",
       "      <td>535468930,888599879,</td>\n",
       "    </tr>\n",
       "    <tr>\n",
       "      <th>3</th>\n",
       "      <td>cell_world</td>\n",
       "      <td>8992746964</td>\n",
       "      <td>cell_world@onet.eu</td>\n",
       "      <td>786249686,,</td>\n",
       "    </tr>\n",
       "    <tr>\n",
       "      <th>4</th>\n",
       "      <td>MDM-KOM</td>\n",
       "      <td>7272801172</td>\n",
       "      <td>mdmkom@gmail.com</td>\n",
       "      <td>502928871,,</td>\n",
       "    </tr>\n",
       "    <tr>\n",
       "      <th>5</th>\n",
       "      <td>MULTISERW_RENOMA</td>\n",
       "      <td>8992794874</td>\n",
       "      <td>multiserwis_ch_renoma@interia.pl</td>\n",
       "      <td>533254545,,</td>\n",
       "    </tr>\n",
       "    <tr>\n",
       "      <th>6</th>\n",
       "      <td>KUBTEL_S</td>\n",
       "      <td>nan</td>\n",
       "      <td>meandmobileallegro@gmail.com</td>\n",
       "      <td>509919099,530222477,</td>\n",
       "    </tr>\n",
       "    <tr>\n",
       "      <th>7</th>\n",
       "      <td>gsmwroc</td>\n",
       "      <td>8992746964</td>\n",
       "      <td>wrocgsm@gmail.com</td>\n",
       "      <td>507250780,,</td>\n",
       "    </tr>\n",
       "    <tr>\n",
       "      <th>8</th>\n",
       "      <td>AKsklepGSM</td>\n",
       "      <td>6831919269</td>\n",
       "      <td>bejooaw@gmail.com</td>\n",
       "      <td>796939594,,</td>\n",
       "    </tr>\n",
       "    <tr>\n",
       "      <th>9</th>\n",
       "      <td>wroctel</td>\n",
       "      <td>nan</td>\n",
       "      <td>wroctel@gmail.com</td>\n",
       "      <td>507250780,,</td>\n",
       "    </tr>\n",
       "    <tr>\n",
       "      <th>10</th>\n",
       "      <td>multiserwis_tele</td>\n",
       "      <td>8992794874</td>\n",
       "      <td>new.brands.teletorium@gmail.com</td>\n",
       "      <td>518278491,,</td>\n",
       "    </tr>\n",
       "    <tr>\n",
       "      <th>11</th>\n",
       "      <td>___PeTEL___</td>\n",
       "      <td>7292701189</td>\n",
       "      <td>lodz@petel.pl</td>\n",
       "      <td>881389280,607045099,</td>\n",
       "    </tr>\n",
       "    <tr>\n",
       "      <th>12</th>\n",
       "      <td>Lombard-Beta-1</td>\n",
       "      <td>nan</td>\n",
       "      <td>lombard.beta.gryfice@wp.pl</td>\n",
       "      <td>601273669,,</td>\n",
       "    </tr>\n",
       "    <tr>\n",
       "      <th>13</th>\n",
       "      <td>Ascom-CSW</td>\n",
       "      <td>5591455521</td>\n",
       "      <td>szymonsobiczewski@gmail.com</td>\n",
       "      <td>,,</td>\n",
       "    </tr>\n",
       "    <tr>\n",
       "      <th>14</th>\n",
       "      <td>PhonesEurope</td>\n",
       "      <td>nan</td>\n",
       "      <td>import.sklep1@gmail.com</td>\n",
       "      <td>690163715,,</td>\n",
       "    </tr>\n",
       "  </tbody>\n",
       "</table>\n",
       "</div>"
      ],
      "text/plain": [
       "               #nick        nip                             email  \\\n",
       "0    all_elektrocity 6462831307            allegro@elektrocity.eu   \n",
       "1      www_PL-GSM_pl 8952031414                   sklep@pl-gsm.pl   \n",
       "2          smart_fon 8992746964        smartfon.allegro@gmail.com   \n",
       "3         cell_world 8992746964                cell_world@onet.eu   \n",
       "4            MDM-KOM 7272801172                  mdmkom@gmail.com   \n",
       "5   MULTISERW_RENOMA 8992794874  multiserwis_ch_renoma@interia.pl   \n",
       "6           KUBTEL_S        nan      meandmobileallegro@gmail.com   \n",
       "7            gsmwroc 8992746964                 wrocgsm@gmail.com   \n",
       "8         AKsklepGSM 6831919269                 bejooaw@gmail.com   \n",
       "9            wroctel        nan                 wroctel@gmail.com   \n",
       "10  multiserwis_tele 8992794874   new.brands.teletorium@gmail.com   \n",
       "11       ___PeTEL___ 7292701189                     lodz@petel.pl   \n",
       "12    Lombard-Beta-1        nan        lombard.beta.gryfice@wp.pl   \n",
       "13         Ascom-CSW 5591455521       szymonsobiczewski@gmail.com   \n",
       "14      PhonesEurope        nan           import.sklep1@gmail.com   \n",
       "\n",
       "                 phone,,  \n",
       "0            608092396,,  \n",
       "1                     ,,  \n",
       "2   535468930,888599879,  \n",
       "3            786249686,,  \n",
       "4            502928871,,  \n",
       "5            533254545,,  \n",
       "6   509919099,530222477,  \n",
       "7            507250780,,  \n",
       "8            796939594,,  \n",
       "9            507250780,,  \n",
       "10           518278491,,  \n",
       "11  881389280,607045099,  \n",
       "12           601273669,,  \n",
       "13                    ,,  \n",
       "14           690163715,,  "
      ]
     },
     "execution_count": 168,
     "metadata": {},
     "output_type": "execute_result"
    }
   ],
   "source": [
    "data = pd.read_csv(\"./frauds_29T114226.557.csv\", sep=';')\n",
    "data.head(15)\n"
   ]
  },
  {
   "cell_type": "code",
   "execution_count": 169,
   "metadata": {},
   "outputs": [
    {
     "name": "stdout",
     "output_type": "stream",
     "text": [
      "<class 'pandas.core.frame.DataFrame'>\n",
      "RangeIndex: 580 entries, 0 to 579\n",
      "Data columns (total 4 columns):\n",
      "#nick      579 non-null object\n",
      "nip        174 non-null float64\n",
      "email      484 non-null object\n",
      "phone,,    580 non-null object\n",
      "dtypes: float64(1), object(3)\n",
      "memory usage: 18.2+ KB\n"
     ]
    }
   ],
   "source": [
    "data.info();"
   ]
  },
  {
   "cell_type": "code",
   "execution_count": 170,
   "metadata": {},
   "outputs": [],
   "source": [
    "top_users = data['#nick'].value_counts().head(5)"
   ]
  },
  {
   "cell_type": "markdown",
   "metadata": {},
   "source": [
    "## Top 5 frauders on Allegro"
   ]
  },
  {
   "cell_type": "code",
   "execution_count": 171,
   "metadata": {},
   "outputs": [
    {
     "data": {
      "image/png": "[encoded data removed]",
      "text/plain": [
       "<matplotlib.figure.Figure at 0x1133b96d8>"
      ]
     },
     "metadata": {},
     "output_type": "display_data"
    }
   ],
   "source": [
    "ax = top_users.plot.bar(title='Top 5 frauders', sort_columns=True, colormap='jet');\n",
    "patches, labels = ax.get_legend_handles_labels();\n",
    "ax.set_xlabel(\"User nick\");\n",
    "ax.set_ylabel(\"Number of auctions marked as Fraud\");\n"
   ]
  },
  {
   "cell_type": "code",
   "execution_count": 176,
   "metadata": {},
   "outputs": [
    {
     "data": {
      "text/html": [
       "<div>\n",
       "<style>\n",
       "    .dataframe thead tr:only-child th {\n",
       "        text-align: right;\n",
       "    }\n",
       "\n",
       "    .dataframe thead th {\n",
       "        text-align: left;\n",
       "    }\n",
       "\n",
       "    .dataframe tbody tr th {\n",
       "        vertical-align: top;\n",
       "    }\n",
       "</style>\n",
       "<table border=\"1\" class=\"dataframe\">\n",
       "  <thead>\n",
       "    <tr style=\"text-align: right;\">\n",
       "      <th></th>\n",
       "      <th></th>\n",
       "      <th>email</th>\n",
       "      <th>phone,,</th>\n",
       "    </tr>\n",
       "    <tr>\n",
       "      <th>nip</th>\n",
       "      <th>#nick</th>\n",
       "      <th></th>\n",
       "      <th></th>\n",
       "    </tr>\n",
       "  </thead>\n",
       "  <tbody>\n",
       "    <tr>\n",
       "      <th>10751075</th>\n",
       "      <th>Free_For_All</th>\n",
       "      <td>0</td>\n",
       "      <td>1</td>\n",
       "    </tr>\n",
       "    <tr>\n",
       "      <th>157372452</th>\n",
       "      <th>First4Spares-PL</th>\n",
       "      <td>0</td>\n",
       "      <td>1</td>\n",
       "    </tr>\n",
       "    <tr>\n",
       "      <th>293271976</th>\n",
       "      <th>-AUTOMANIA-</th>\n",
       "      <td>1</td>\n",
       "      <td>1</td>\n",
       "    </tr>\n",
       "    <tr>\n",
       "      <th>1131286138</th>\n",
       "      <th>ToMeK_R00</th>\n",
       "      <td>1</td>\n",
       "      <td>1</td>\n",
       "    </tr>\n",
       "    <tr>\n",
       "      <th rowspan=\"2\" valign=\"top\">1132463536</th>\n",
       "      <th>GCKrakow</th>\n",
       "      <td>1</td>\n",
       "      <td>1</td>\n",
       "    </tr>\n",
       "    <tr>\n",
       "      <th>toughbook</th>\n",
       "      <td>1</td>\n",
       "      <td>1</td>\n",
       "    </tr>\n",
       "    <tr>\n",
       "      <th>1132792174</th>\n",
       "      <th>AgkInvest</th>\n",
       "      <td>1</td>\n",
       "      <td>1</td>\n",
       "    </tr>\n",
       "    <tr>\n",
       "      <th>1132831299</th>\n",
       "      <th>SinPro_pl</th>\n",
       "      <td>1</td>\n",
       "      <td>1</td>\n",
       "    </tr>\n",
       "    <tr>\n",
       "      <th>2530335927</th>\n",
       "      <th>alleloombard1206</th>\n",
       "      <td>0</td>\n",
       "      <td>1</td>\n",
       "    </tr>\n",
       "    <tr>\n",
       "      <th>5211965257</th>\n",
       "      <th>Rakoczy_Marcin</th>\n",
       "      <td>1</td>\n",
       "      <td>1</td>\n",
       "    </tr>\n",
       "  </tbody>\n",
       "</table>\n",
       "</div>"
      ],
      "text/plain": [
       "                             email  phone,,\n",
       "nip        #nick                           \n",
       "10751075   Free_For_All          0        1\n",
       "157372452  First4Spares-PL       0        1\n",
       "293271976  -AUTOMANIA-           1        1\n",
       "1131286138 ToMeK_R00             1        1\n",
       "1132463536 GCKrakow              1        1\n",
       "           toughbook             1        1\n",
       "1132792174 AgkInvest             1        1\n",
       "1132831299 SinPro_pl             1        1\n",
       "2530335927 alleloombard1206      0        1\n",
       "5211965257 Rakoczy_Marcin        1        1"
      ]
     },
     "execution_count": 176,
     "metadata": {},
     "output_type": "execute_result"
    }
   ],
   "source": [
    " data.groupby(['nip','#nick']).count().head(10)"
   ]
  },
  {
   "cell_type": "code",
   "execution_count": 173,
   "metadata": {},
   "outputs": [
    {
     "data": {
      "text/plain": [
       "nip         #nick           \n",
       "10751075    Free_For_All            Free_For_All\n",
       "157372452   First4Spares-PL      First4Spares-PL\n",
       "293271976   -AUTOMANIA-              -AUTOMANIA-\n",
       "1131286138  ToMeK_R00                  ToMeK_R00\n",
       "1132463536  GCKrakow                    GCKrakow\n",
       "            toughbook                  toughbook\n",
       "1132792174  AgkInvest                  AgkInvest\n",
       "1132831299  SinPro_pl                  SinPro_pl\n",
       "2530335927  alleloombard1206    alleloombard1206\n",
       "5211965257  Rakoczy_Marcin        Rakoczy_Marcin\n",
       "5213133414  2kroki_pl                  2kroki_pl\n",
       "5213743526  i-lombard                  i-lombard\n",
       "5242248114  astelefony                astelefony\n",
       "5242685010  INTERLOMBARD-N51    INTERLOMBARD-N51\n",
       "5471915256  sklep_fot_o              sklep_fot_o\n",
       "5472142856  fkmarket                    fkmarket\n",
       "5530019524  eldorado_lombard    eldorado_lombard\n",
       "5532284874  logatero                    logatero\n",
       "5541664056  telkomis_pl              telkomis_pl\n",
       "5591455521  Ascom-CSW                  Ascom-CSW\n",
       "5592022445  Tronik_Tech              Tronik_Tech\n",
       "5621803382  GetSales                    GetSales\n",
       "5730250232  deltakraw                  deltakraw\n",
       "5821509664  LombTel                      LombTel\n",
       "5832445979  sklepikorunia          sklepikorunia\n",
       "5841831245  jubilergabe              jubilergabe\n",
       "5841993522  krisar_gd                  krisar_gd\n",
       "5891982992  tu_KupiszTelefon    tu_KupiszTelefon\n",
       "5932105740  Contact-Service      Contact-Service\n",
       "5993066247  iPoint-Store            iPoint-Store\n",
       "                                      ...       \n",
       "8992756282  eloombard7                eloombard7\n",
       "8992763000  alleloombard711      alleloombard711\n",
       "8992764519  alleloombard29        alleloombard29\n",
       "8992764672  alleloombard176      alleloombard176\n",
       "8992767707  alleloombard277      alleloombard277\n",
       "8992772714  alleloombard634      alleloombard634\n",
       "8992787727  alleloombard694      alleloombard694\n",
       "8992793053  alleloombard57        alleloombard57\n",
       "            alleloombard731      alleloombard731\n",
       "8992793099  alleloombard15        alleloombard15\n",
       "            alleloombard157      alleloombard157\n",
       "            alleloombard16        alleloombard16\n",
       "8992794874  MULTISERW_RENOMA    MULTISERW_RENOMA\n",
       "            multiserwis_tele    multiserwis_tele\n",
       "9111672204  LOMBARD-REDI            LOMBARD-REDI\n",
       "9121769655  Julka58552                Julka58552\n",
       "9121872838  LOMMBARD8                  LOMMBARD8\n",
       "            LOMMBARD88                LOMMBARD88\n",
       "9151790298  alleloombard369      alleloombard369\n",
       "9151791062  alleloombard115      alleloombard115\n",
       "            alleloombard448      alleloombard448\n",
       "9191827872  Invede                        Invede\n",
       "9271796576  Mobile-Telecom        Mobile-Telecom\n",
       "9461556409  telstore                    telstore\n",
       "9471917903  katehome_pl              katehome_pl\n",
       "9511297224  DDGSM                          DDGSM\n",
       "9570718963  jasioo_                      jasioo_\n",
       "9581676228  skupilombard_bdg    skupilombard_bdg\n",
       "9660938734  akedzierska0            akedzierska0\n",
       "9680933119  artmagames                artmagames\n",
       "Name: #nick, Length: 173, dtype: object"
      ]
     },
     "execution_count": 173,
     "metadata": {},
     "output_type": "execute_result"
    }
   ],
   "source": [
    " data.groupby(['nip','#nick'])['#nick'].sum()"
   ]
  },
  {
   "cell_type": "code",
   "execution_count": 174,
   "metadata": {},
   "outputs": [],
   "source": [
    "top_nips = data.groupby('nip')['#nick'].nunique()\n",
    "nipz = pd.DataFrame({'nip':top_nips.index, 'count':top_nips.values})\n",
    "sorted_nipz = nipz.sort_values(by=['count'], ascending=False)\n",
    "sorted_nipz.head(10)\n",
    "ts = pd.Series(sorted_nipz['count'].values.astype(int), index=sorted_nipz['nip'].astype(str)).head(10)"
   ]
  },
  {
   "cell_type": "markdown",
   "metadata": {},
   "source": [
    "## Number of slippery users registered under the same NIP code"
   ]
  },
  {
   "cell_type": "code",
   "execution_count": 175,
   "metadata": {},
   "outputs": [
    {
     "data": {
      "image/png": "[encoded data removed]",
      "text/plain": [
       "<matplotlib.figure.Figure at 0x113ad5940>"
      ]
     },
     "metadata": {},
     "output_type": "display_data"
    }
   ],
   "source": [
    "ax2 = ts.plot.bar(title='Top 5 most popular NIP numbers', colormap='jet');\n",
    "patches2, labels2 = ax2.get_legend_handles_labels();\n",
    "ax2.set_xlabel(\"NIP\");\n",
    "ax2.set_ylabel(\"# slippery users registered under that NIP code\");\n"
   ]
  },
  {
   "cell_type": "code",
   "execution_count": null,
   "metadata": {},
   "outputs": [],
   "source": []
  }
 ],
 "metadata": {
  "kernelspec": {
   "display_name": "Python 3",
   "language": "python",
   "name": "python3"
  },
  "language_info": {
   "codemirror_mode": {
    "name": "ipython",
    "version": 3
   },
   "file_extension": ".py",
   "mimetype": "text/x-python",
   "name": "python",
   "nbconvert_exporter": "python",
   "pygments_lexer": "ipython3",
   "version": "3.6.2"
  }
 },
 "nbformat": 4,
 "nbformat_minor": 2
}
